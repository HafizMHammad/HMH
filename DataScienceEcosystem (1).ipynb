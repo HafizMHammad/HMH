{
 "cells": [
  {
   "cell_type": "markdown",
   "id": "257fc252-12c1-4b91-9ec1-024be37879d2",
   "metadata": {},
   "source": [
    "# Data Science Tools and Ecosystem"
   ]
  },
  {
   "cell_type": "markdown",
   "id": "fbbb60be-002c-42e3-ba65-1b361021d58c",
   "metadata": {},
   "source": [
    "## Introduction\n",
    "Welcome to my final project on Data Science. In this notebook, we will explore various aspects of data science, including languages, libraries, tools, and practical examples."
   ]
  },
  {
   "cell_type": "markdown",
   "id": "72a246fe-8c7e-4b64-a219-9ce8ac352080",
   "metadata": {
    "toc-hr-collapsed": true
   },
   "source": [
    "## Data Science Languages\n",
    "\n",
    "Some of the popular languages that Data Scientists use are:\n",
    "1. Python\n",
    "2. R\n",
    "3. Julia\n",
    "4. SQL\n",
    "5. Javascript \n",
    "6. Java\n",
    "7. Scala\n",
    "9. SAS\n",
    "10. MATLAB\n",
    "11. C/C++\n",
    "12. Swift"
   ]
  },
  {
   "cell_type": "markdown",
   "id": "ecb4ea15-5afb-4c0f-95fa-5e9c42963038",
   "metadata": {
    "tags": [],
    "toc-hr-collapsed": true
   },
   "source": [
    "## Data Science Libraries\n",
    "\n",
    "Some of the commonly used libraries used by Data Scientists include:\n",
    "\n",
    "| Tool        | Description                  |\n",
    "|-------------|------------------------------|\n",
    "| NumPy       | Powerful library for numerical computations in Python. |\n",
    "| Pandas      | Data manipulation and analysis library, providing data structures like DataFrame. |\n",
    "| Matplotlib  | Plotting library for creating static, animated, and interactive visualizations. |\n",
    "| Scikit-learn | Machine learning library with simple and efficient tools for data analysis and modeling. |\n",
    "| TensorFlow  | Open-source machine learning framework developed by Google. |\n",
    "| Keras       | High-level neural networks API, written in Python and capable of running on top of TensorFlow. |\n",
    "| Seaborn     | Data visualization library based on Matplotlib, providing a high-level interface for drawing attractive and informative statistical graphics. |\n",
    "| Statsmodels | Library for estimating and testing statistical models. |"
   ]
  },
  {
   "cell_type": "markdown",
   "id": "967f3696-ce3b-4594-b9c0-9dc25526c57b",
   "metadata": {},
   "source": [
    "## Data Science Tools\n",
    "\n",
    "| Data Science Tools |\n",
    "|--------------------|\n",
    "| Jupyter Notebooks  |\n",
    "| RStudio            |\n",
    "| VSCode             |\n",
    "| Spyder             |\n",
    "| PyCharm            |\n",
    "| Atom               |"
   ]
  },
  {
   "cell_type": "markdown",
   "id": "a902fe41-c7be-45b7-9a6e-2ebbda1a2906",
   "metadata": {},
   "source": [
    "### Arithmetic Expression Examples\n",
    "Let's explore some basic arithmetic expressions to understand mathematical operations in programming.\n"
   ]
  },
  {
   "cell_type": "code",
   "execution_count": null,
   "id": "7b249312-0fb5-4f39-b3c3-6e4502140ee1",
   "metadata": {},
   "outputs": [],
   "source": [
    "# Multiply and add numbers\n",
    "result_multiply = 5 * 3\n",
    "result_add = 5 + 3\n",
    "\n",
    "print(\"Multiplication result:\", result_multiply)\n",
    "print(\"Addition result:\", result_add)"
   ]
  },
  {
   "cell_type": "code",
   "execution_count": null,
   "id": "547a07b6-5cc9-4e4f-acec-7281ce74ee48",
   "metadata": {},
   "outputs": [],
   "source": [
    "# Convert minutes to hours\n",
    "# This will convert 200 minutes to hours by dividing by 60.\n",
    "minutes = 200\n",
    "hours = minutes / 60\n",
    "\n",
    "# Print the result\n",
    "print(f\"{minutes} minutes is equal to {hours} hours.\")"
   ]
  },
  {
   "cell_type": "code",
   "execution_count": null,
   "id": "421610fc-8ac5-48a0-ab43-b82513f86c5d",
   "metadata": {},
   "outputs": [],
   "source": []
  },
  {
   "cell_type": "code",
   "execution_count": null,
   "id": "6dc7ec61-6046-4b3c-9a4d-51b6a0161c4a",
   "metadata": {},
   "outputs": [],
   "source": []
  },
  {
   "cell_type": "code",
   "execution_count": null,
   "id": "b2914d8c-1462-40ca-8306-1a48d1f93a32",
   "metadata": {},
   "outputs": [],
   "source": []
  },
  {
   "cell_type": "code",
   "execution_count": null,
   "id": "bca812c0-6b98-49a7-be9d-05efde0de5d7",
   "metadata": {},
   "outputs": [],
   "source": []
  },
  {
   "cell_type": "code",
   "execution_count": null,
   "id": "1ee56bef-2852-4359-a443-8a1b5fd91c2a",
   "metadata": {},
   "outputs": [],
   "source": []
  },
  {
   "cell_type": "code",
   "execution_count": null,
   "id": "99f13be4-075e-4c45-b402-64e8882291f3",
   "metadata": {},
   "outputs": [],
   "source": []
  }
 ],
 "metadata": {
  "kernelspec": {
   "display_name": "Python",
   "language": "python",
   "name": "conda-env-python-py"
  },
  "language_info": {
   "codemirror_mode": {
    "name": "ipython",
    "version": 3
   },
   "file_extension": ".py",
   "mimetype": "text/x-python",
   "name": "python",
   "nbconvert_exporter": "python",
   "pygments_lexer": "ipython3",
   "version": "3.7.12"
  },
  "toc-autonumbering": true,
  "toc-showmarkdowntxt": true
 },
 "nbformat": 4,
 "nbformat_minor": 5
}
